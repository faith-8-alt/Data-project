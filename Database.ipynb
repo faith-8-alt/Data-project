{
 "cells": [
  {
   "cell_type": "code",
   "execution_count": 1,
   "id": "22dbb611",
   "metadata": {},
   "outputs": [],
   "source": [
    "import pandas as pd"
   ]
  },
  {
   "cell_type": "code",
   "execution_count": 2,
   "id": "ace8d5f9",
   "metadata": {},
   "outputs": [],
   "source": [
    "import sqlite3"
   ]
  },
  {
   "cell_type": "code",
   "execution_count": 3,
   "id": "54c08ebf",
   "metadata": {},
   "outputs": [
    {
     "name": "stdout",
     "output_type": "stream",
     "text": [
      "Table created successfully\n"
     ]
    }
   ],
   "source": [
    "#create a databese\n",
    "conn = sqlite3.connect (\"lab_database.db\")\n",
    "cursor = conn.cursor()\n",
    "cursor.execute('''\n",
    "                   CREATE TABLE IF NOT EXISTS lab_records(\n",
    "                   LIMSID TEXT PRIMARY KEY,\n",
    "                   LABID TEXT,\n",
    "                   NAME TEXT,\n",
    "                   AGE INTEGER,\n",
    "                   SEX TEXT,\n",
    "                   COUNTY TEXT,\n",
    "                   MARITAL_STATUS TEXT,\n",
    "                   PARITY TEXT,\n",
    "                   HIV_STATUS TEXT,\n",
    "                   HPV_STATUS TEXT,\n",
    "                   OTHER TEXT\n",
    "                   )\n",
    "''')\n",
    "print(\"Table created successfully\")\n",
    "\n"
   ]
  },
  {
   "cell_type": "code",
   "execution_count": 4,
   "id": "2aed8ea8",
   "metadata": {},
   "outputs": [
    {
     "data": {
      "text/plain": [
       "<sqlite3.Cursor at 0x7dec6ad53640>"
      ]
     },
     "execution_count": 4,
     "metadata": {},
     "output_type": "execute_result"
    }
   ],
   "source": [
    "cursor.execute(\"DROP TABLE IF EXISTS lab_records\")\n"
   ]
  },
  {
   "cell_type": "code",
   "execution_count": 5,
   "id": "81dad8a4",
   "metadata": {},
   "outputs": [
    {
     "data": {
      "text/plain": [
       "<sqlite3.Cursor at 0x7dec6ad53640>"
      ]
     },
     "execution_count": 5,
     "metadata": {},
     "output_type": "execute_result"
    }
   ],
   "source": [
    "cursor.execute('''\n",
    "    CREATE TABLE lab_records(\n",
    "        LIMSID TEXT PRIMARY KEY,\n",
    "        LABID TEXT,\n",
    "        NAME TEXT,\n",
    "        AGE INTEGER,\n",
    "        SEX TEXT,\n",
    "        COUNTY TEXT,\n",
    "        MARITAL_STATUS TEXT,\n",
    "        PARITY TEXT,\n",
    "        HIV_STATUS TEXT,\n",
    "        HPV_STATUS TEXT,\n",
    "        OTHER TEXT\n",
    "    )\n",
    "''')\n"
   ]
  },
  {
   "cell_type": "code",
   "execution_count": 6,
   "id": "acb14896",
   "metadata": {},
   "outputs": [],
   "source": [
    "# get table structure\n",
    "conn = sqlite3.connect(\"lab_database.db\")\n",
    "query = \"PRAGMA table_info(lab_records)\"\n",
    "columns = cursor.fetchall()\n"
   ]
  },
  {
   "cell_type": "code",
   "execution_count": 7,
   "id": "9f52ae80",
   "metadata": {},
   "outputs": [],
   "source": [
    "import sqlite3\n",
    "\n",
    "conn = sqlite3.connect(\"lab_database.db\", timeout=10.0)\n",
    "cursor = conn.cursor()\n"
   ]
  },
  {
   "cell_type": "code",
   "execution_count": 8,
   "id": "41908024",
   "metadata": {},
   "outputs": [
    {
     "data": {
      "text/plain": [
       "<sqlite3.Cursor at 0x7dec6ad752c0>"
      ]
     },
     "execution_count": 8,
     "metadata": {},
     "output_type": "execute_result"
    }
   ],
   "source": [
    "cursor. execute ('''\n",
    " INSERT INTO lab_records (\n",
    "        LIMSID, LABID, NAME, AGE, SEX, COUNTY,\n",
    "        MARITAL_STATUS, PARITY, HIV_STATUS,\n",
    "        HPV_STATUS, OTHER\n",
    "    ) VALUES (?, ?, ?, ?, ?, ?, ?, ?, ?, ?, ?)\n",
    "''', (\"3597\", \"OR25\", \"Beatrice Wetunga\", int(32), \"F\", \"Nairobi\",\n",
    "      \"single\", \"3+0\", \"positive\",\n",
    "      \"B\", \"No notes\")\n",
    "      )"
   ]
  },
  {
   "cell_type": "code",
   "execution_count": 9,
   "id": "e4983cf0",
   "metadata": {},
   "outputs": [],
   "source": [
    "cursor.execute(\"DELETE FROM lab_records\")\n",
    "conn.commit()\n"
   ]
  },
  {
   "cell_type": "code",
   "execution_count": 10,
   "id": "5d104ed5",
   "metadata": {},
   "outputs": [
    {
     "name": "stdout",
     "output_type": "stream",
     "text": [
      "136 records inserted via executemany.\n"
     ]
    }
   ],
   "source": [
    "data = [\n",
    "    (\"3146\", \"OR25-3048\", \"Everline Aluoch Chongo\", 35, \"F\", \"Nairobi\", \"Widow\", \"5+0\", \"Positive\", \"18\", \"No notes\"),\n",
    "    (\"3149\", \"OR25-3051\", \"Lilian Akinyi Owino\", 37, \"F\", \"Nairobi\", \"Maried\", \"2+0\", \"positive\", \"A\", \"No notes\"),\n",
    "    (\"3148\", \"OR25-3050\", \"Eddah Muthoni\", 35, \"F\", \"Nairobi\", \"Maried\", \"2+0\", \"positive\", \"B\", \"No notes\"),\n",
    "    (\"3152\", \"OR25-3049\", \"Sophie Atieno\", 37, \"F\",\"Nairobi\", \"Married\", \"2+0\", \"positive\", \"A\", \"No notes\"),\n",
    "    (\"3168\", \"OR25-3054\", \"Catherine Mwikali\", 38, \"F\",\"Machakos\", \"Married\", \"3+0\", \"Negative\", \"\", \"No notes\"),\n",
    "    (\"3239\", \"OR25-3135\", \"Rose K Omwando\", 36, \"F\",\"Kisii\", \"Married\", \"2+0\", \"Negative\", \"18\", \"No notes\"),\n",
    "    (\"3167\", \"OR25-3519\", \"Caroline Kaleli\", 41, \"F\",\"Machakos\", \"Married\", \"3+0\", \"Negative\", \"\", \"No notes\"),\n",
    "    (\"3060\", \"OR25-3519\", \"Mary Mbatha Mutua\", 46, \"F\",\"Machakos\", \"Married\", \"2+0\", \"Negative\", \"45\", \"No notes\"),\n",
    "    (\"3190\", \"OR25-3519\", \"Ruth Nthenya\", 37, \"F\", \"Machakos\", \"single\", \"3+0\", \"\",\"\" , \"No notes\"),\n",
    "    (\"3191\", \"OR25-3519\", \"Elizabeth Mwikali\", 36, \"F\",\"Machakos\", \"Single\", \"2+0\", \"Negative\", \"\", \"No notes\"),\n",
    "    (\"3164\", \"OR25-3519\", \"Caroline Mwikali\", 32, \"F\",\"Machakos\", \"Married\", \"3+0\", \"Negative\", \"45\", \"No notes\"),\n",
    "    (\"3566\", \"OR25-3519\", \"Grace Wanjiku\", 38, \"F\",\"Nairobi\", \"Married\", \"2+0\", \"Negative\", \"A\", \"Consent\"),\n",
    "    (\"3567\", \"OR25-3519\", \"Margaret Anyango\", 61, \"F\",\"Nairobi\", \"Married\", \"2+0\", \"Positive\", \"B\", \"Consent\"),\n",
    "    (\"3569\", \"OR25-3519\", \"Selina Moraa\", 51, \"F\",\"Nairobi\", \"Married\", \"2+0\", \"Positive\", \"B\", \"Consent\"),\n",
    "    (\"3586\", \"OR25-3488\", \"Sara Wangare\", 53, \"F\",\"Nairobi\", \"Married\", \"2+0\", \"Positive\", \"A\", \"ccc\"),\n",
    "    (\"3464\", \"OR25-3519\", \"Miceline Furaha Kitamuliko\", 38, \"F\",\"Nairobi\", \"Married\", \"1+0\", \"Positive\", \"\", \"ccc\"),\n",
    "    (\"3467\", \"OR25-3519\", \"Josephine Wambui\", 53, \"F\",\"Nairobi\", \"Married\", \"\", \"Positive\", \"A\", \"ccc\"),\n",
    "    (\"3571\", \"OR25-3473\", \"Mercy Kiarie\", 57, \"F\",\"Nairobi\", \"Married\", \"\", \"Positive\", \"A\", \"ccc\"),\n",
    "    (\"3587\", \"OR25-3489\", \"Miriam Kanini\", 44, \"F\",\"Nairobi\", \"Married\", \"\", \"Positive\", \"16\", \"ccc\"),\n",
    "    (\"3589\", \"OR25-3491\", \"Eather Oyani\", 58, \"F\",\"Nairobi\", \"Married\", \"\", \"Positive\", \"18,A\", \"ccc\"),\n",
    "    (\"3595\", \"OR25-3517\", \"Jeniffer Musheshi\", 60, \"F\",\"Nairobi\", \"Married\", \"1+0\", \"Positive\", \"B\", \"No notes\"),\n",
    "    (\"3530\", \"OR25-3519\", \"Emily Mbaika\", 40, \"F\",\"Nairobi\", \"Married\", \"\", \"Positive\", \"45\", \"No notes\"),\n",
    "    (\"3135\", \"OR25-3519\", \"Rosinah Nthenya\", 47, \"F\",\"Machakos\", \"Married\", \"\", \"Negative\", \"\", \"Consent\"),\n",
    "    (\"3058\", \"OR25-2955\", \"Florence Kitua\", 47, \"F\",\"Machakos\", \"Single\", \"\", \"Negative\", \"B\", \"Consent\"),\n",
    "    (\"3061\", \"OR25-2958\", \"Anastatcia Muthui\", 46, \"F\",\"Machakos\", \"Married\", \"0\", \"Negative\", \"B\", \"Consent\"),\n",
    "    (\"3143\", \"OR25-3020\", \"Annah Ndinda\", 43, \"F\",\"Machakos\", \"Married\", \"\", \"Negative\", \"18\", \"Consent\"),\n",
    "    (\"3081\", \"OR25-3519\", \"Elizabeth Njoki Njiru\", 36, \"F\",\"Machakos\", \"Married\", \"\", \"Negative\", \"A\", \"\"),\n",
    "    (\"3101\", \"OR25-3519\", \"Morrin Wanza\", 41, \"F\",\"Machakos\", \"Married\", \"\", \"Negative\", \"A\", \"\"),\n",
    "    (\"3096\", \"OR25-3519\", \"Eather Mutiso\", 47, \"F\",\"Machakos\", \"Married\", \"\", \"Negative\", \"A,B\", \"\"),\n",
    "    (\"3094\", \"OR25-3519\", \"Catherine Ndanu\", 31, \"F\",\"Machakos\", \"Married\", \"\", \"Negative\", \"A,B\", \"\"),\n",
    "    (\"3093\", \"OR25-3519\", \"Rose Mueni\", 47, \"F\",\"Machakos\", \"Married\", \"\", \"Negative\", \"A\", \"\"),\n",
    "    (\"3477\", \"OR25-3519\", \"Catherine Wanja\", 40, \"F\",\"Meru\", \"Married\", \"2+0\", \"Unknown\", \"\", \"Consent\"),\n",
    "    (\"3485\", \"OR25-3519\", \"Fridah Gatwiri Mwiti\", 38, \"F\",\"Meru\", \"Single\", \"3+0\", \"Unknown\", \"\", \"Consent\"),\n",
    "    (\"3489\", \"OR25-3519\", \"Christine Kawira Stanley\", 30, \"F\",\"Meru\", \"Single\", \"4+0\", \"Unknown\", \"\", \"Consent\"),\n",
    "    (\"3456\", \"OR25-3519\", \"Siti Bakari Siwa\", 32, \"F\",\"Mombasa\", \"Married\", \"\", \"Negative\", \"\", \"Consent\"),\n",
    "    (\"3518\", \"OR25-3519\", \"Peninah Kinya Jane\", 35, \"F\",\"Meru\", \"Married\", \"2+0\", \"Unknown\", \"\", \"\"),\n",
    "    (\"3515\", \"OR25-3519\", \"Everline Makewa Baraka\", 30, \"F\",\"Meru\", \"Married\", \"2+0\", \"Unknown\", \"\", \"\"),\n",
    "    (\"3577\", \"OR25-3519\", \"Mary Kasyoka\", 55, \"F\",\"Nairobi\", \"Married\", \"\", \"Positive\", \"\", \"Consent\"),\n",
    "    (\"3578\", \"OR25-3519\", \"Josephine Mueni\", 48, \"F\",\"Nairobi\", \"Married\", \"\", \"Positive\", \"\", \"Consent\"),\n",
    "    (\"3582\", \"OR25-3519\", \"Jackline Luvungha\", 46, \"F\",\"Nairobi\", \"Married\", \"\", \"Positive\", \"\", \"Consent\"),\n",
    "    (\"3612\", \"OR25-3519\", \"Linet Akinyi\", 32, \"F\",\"Nairobi\", \"\", \"\", \"Positive\", \"\", \"\"),\n",
    "    (\"3610\", \"OR25-3519\", \"Leah Wanjala\", 37, \"F\",\"Nairobi\", \"Widow\", \"1+0\", \"Positive\", \"\", \"Consent\"),\n",
    "    (\"3226\", \"OR25-3519\", \"Eunice Malinda\", 49, \"F\",\"Machakos\", \"Widow\", \"2+0\", \"Negative\", \"\", \"Consent\"),\n",
    "    (\"3291\", \"OR25-3519\", \"Benard Galhai\", 32, \"F\",\"Marsabit\", \"\", \"0\", \"Unkown\", \"\", \"Consent\"),\n",
    "    (\"3297\", \"OR25-3519\", \"Ndupayo Lukhumulhau\", 41, \"F\",\"Marsabit\", \"\", \"0\", \"Unkown\", \"\", \"Consent\"),\n",
    "    (\"3279\", \"OR25-3519\", \"Nasaru Alyaro\", 35, \"F\",\"Marsabit\", \"Married\", \"0\", \"Unkown\", \"\", \"Consent\"),\n",
    "    (\"3278\", \"OR25-3519\", \"Susan Lenganap\", 46, \"F\",\"Marsabit\", \"Married\", \"0\", \"Unkown\", \"\", \"Consent\"),\n",
    "    (\"3243\", \"OR25-3519\", \"Josphine Nyabonyi Omweri\", 44, \"F\",\"Kisii\", \"Married\", \"0\", \"Negative\", \"\", \"Consent\"),\n",
    "    (\"3242\", \"OR25-3519\", \"Emily Nyagwansa\", 49, \"F\",\"Kisii\", \"Married\", \"0\", \"Negative\", \"\", \"Consent\"),\n",
    "    (\"3258\", \"OR25-3519\", \"Isabellah Onyancha\", 49, \"F\",\"Kisii\", \"Married\", \"0\", \"Negative\", \"\", \"Consent\"),\n",
    "    (\"3252\", \"OR25-3519\", \"Beatrice Gesare Mogusu\", 49, \"F\",\"Kisii\", \"Married\", \"0\", \"Negative\", \"\", \"Consent\"),\n",
    "    (\"3248\", \"OR25-3519\", \"Ann Moraa Misati\", 49, \"F\",\"Kisii\", \"Single\", \"0\", \"Unknown\", \"\", \"Consent\"),\n",
    "    (\"3211\", \"OR25-3519\", \"Salome Mueni\", 42, \"F\",\"Machakos\", \"Single\", \"3+0\", \"Unknown\", \"\", \"Consent\"),\n",
    "    (\"3217\", \"OR25-3519\", \"Damaris Nduku\", 30, \"F\",\"Machakos\", \"Married\", \"1+0\", \"Negative\", \"\", \"Consent\"),\n",
    "    (\"3220\", \"OR25-3519\", \"Esther Wanjiku\", 32, \"F\",\"Machakos\", \"Single\", \"0+0\", \"Negative\", \"\", \"Consent\"),\n",
    "    (\"3235\", \"OR25-3519\", \"Varelia Nyaboke Otwoma\", 30, \"F\",\"Kisii\", \"Married\", \"0\", \"Negative\", \"\", \"Consent\"),\n",
    "    (\"3154\", \"OR25-3519\", \"Monicah Ndindi\", 42, \"F\",\"Machakos\", \"Married\", \"0\", \"Positive\", \"\", \"Consent\"),\n",
    "    (\"3155\", \"OR25-3519\", \"Rosaline Wambui\", 54, \"F\",\"Nairobi\", \"Married\", \"0\", \"Positive\", \"\", \"Consent\"),\n",
    "    (\"3149\", \"OR25-3519\", \"Brigit Ndugwa\", 36, \"F\",\"Nairobi\", \"Married\", \"2+0\", \"Positive\", \"\", \"Consent\"),\n",
    "    (\"3146\", \"OR25-3519\", \"Everlyne Aluoch Chongo\", 35, \"F\",\"Nairobi\", \"Widow\", \"5+0\", \"Positive\", \"\", \"Consent\"),\n",
    "    (\"3148\", \"OR25-3519\", \"Eddah Muthoni\", 39, \"F\",\"Nairobi\", \"\", \"2+0\", \"positive\", \"A/F\", \"Consent\"),\n",
    "    (\"3147\", \"OR25-3519\", \"Lilian Akinyi Owino\", 37, \"F\",\"Nairobi\", \"\", \"0\", \"Positive\", \"\", \"Consent\"),\n",
    "    (\"3152\", \"OR25-3519\", \"\", 37, \"F\",\"Nairobi\", \"Married\", \"2+0\", \"Positive\", \"\", \"Consent\"),\n",
    "    (\"3308\", \"OR25-3519\", \"Ruth Wanjira Karanja\", 43, \"F\",\"Kiambu\", \"\", \"0\", \"positive\", \"\", \"Consent\"),\n",
    "    (\"3309\", \"OR25-3519\", \"Esther Wangeci Wainaina\", 54, \"F\",\"Kiambu\", \"\", \"0\", \"positive\", \"\", \"Consent\"),\n",
    "    (\"3312\", \"OR25-3519\", \"Jane Wacuka Kiwii\", 53, \"F\",\"Kiambu\", \"\", \"0\", \"positive\", \"\", \"Consent\"),\n",
    "    (\"3318\", \"OR25-3519\", \"Mary Wangui Njuguna\", 39, \"F\",\"Kiambu\", \"\", \"0\", \"positive\", \"\", \"Consent\"),\n",
    "    (\"3320\", \"OR25-3519\", \"Hannah Mumbi Gahukia\", 54, \"F\",\"Kiambu\", \"\", \"0\", \"positive\", \"\", \"Consent\"),\n",
    "    (\"3324\", \"OR25-3519\", \"Teresia Njoki Ichangi\", 35, \"F\",\"Kiambu\", \"\", \"0\", \"positive\", \"\", \"Consent\"),\n",
    "    (\"3326\", \"OR25-3519\", \"Stella Njeri Wainaina\", 45, \"F\",\"Kiambu\", \"\", \"0\", \"positive\", \"\", \"Consent\"),\n",
    "    (\"3332\", \"OR25-3519\", \"Eunice Kamuli Nkendo\", 50, \"F\",\"Kiambu\", \"\", \"0\", \"positive\", \"\", \"Consent\"),\n",
    "    (\"3337\", \"OR25-3519\", \"Philis Mwikali Mbatha\", 47, \"F\",\"\", \"\", \"0\", \"positive\", \"\", \"Consent\"),\n",
    "    (\"3329\", \"OR25-3519\", \"Grace Kariuki\", 39, \"F\",\"\", \"\", \"0\", \"positive\", \"\", \"Consent\"),\n",
    "    (\"3371\", \"OR25-3519\", \"Mercy Kiarie\", 57, \"F\",\"Nairobi\", \"\", \"0\", \"positive\", \"\", \"Consent\"),\n",
    "    (\"3154\", \"OR25-3056\", \"\", \"\", \"\",\"\", \"\", \"\", \"\", \"\", \"\"),\n",
    "    (\"3155\", \"OR25-3057\", \"\", \"\", \"\",\"\", \"\", \"\", \"\", \"\", \"\"),\n",
    "    (\"3308\", \"OR25-3519\", \"\", \"\", \"\",\"\", \"\", \"\", \"\", \"\", \"\"),\n",
    "    (\"3309\", \"OR25-3519\", \"\", \"\", \"\",\"\", \"\", \"\", \"\", \"\", \"\"),\n",
    "    (\"3312\", \"OR25-3519\", \"\", \"\", \"\",\"\", \"\", \"\", \"\", \"\", \"\"),\n",
    "    (\"3318\", \"OR25-3519\", \"\", \"\", \"\",\"\", \"\", \"\", \"\", \"\", \"\"),\n",
    "    (\"3320\", \"OR25-3519\", \"\", \"\", \"\",\"\", \"\", \"\", \"\", \"\", \"\"),\n",
    "    (\"3324\", \"OR25-3519\", \"\", \"\", \"\",\"\", \"\", \"\", \"\", \"\", \"\"),\n",
    "    (\"3326\", \"OR25-3519\", \"\", \"\", \"\",\"\", \"\", \"\", \"\", \"\", \"\"),\n",
    "    (\"3332\", \"OR25-3519\", \"\", \"\", \"\",\"\", \"\", \"\", \"\", \"\", \"\"),\n",
    "    (\"3337\", \"OR25-3519\", \"\", \"\", \"\",\"\", \"\", \"\", \"\", \"\", \"\"),\n",
    "    (\"3329\", \"OR25-3519\", \"\", \"\", \"\",\"\", \"\", \"\", \"\", \"\", \"\"),\n",
    "    (\"2968\", \"OR25-3519\", \"\", \"\", \"\",\"\", \"\", \"\", \"\", \"\", \"\"),\n",
    "    (\"2976\", \"OR25-3519\", \"\", \"\", \"\",\"\", \"\", \"\", \"\", \"\", \"\"),\n",
    "    (\"2982\", \"OR25-3519\", \"\", \"\", \"\",\"\", \"\", \"\", \"\", \"\", \"\"),\n",
    "    (\"2957\", \"OR25-3519\", \"\", \"\", \"\",\"\", \"\", \"\", \"\", \"\", \"\"),\n",
    "    (\"3526\", \"OR25-3519\", \"\", \"\", \"\",\"\", \"\", \"\", \"\", \"\", \"\"),\n",
    "    (\"3527\", \"OR25-3519\", \"\", \"\", \"\",\"\", \"\", \"\", \"\", \"\", \"\"),\n",
    "    (\"3532\", \"OR25-3519\", \"\", \"\", \"\",\"\", \"\", \"\", \"\", \"\", \"\"),\n",
    "    (\"3529\", \"OR25-3519\", \"\", \"\", \"\",\"\", \"\", \"\", \"\", \"\", \"\"),\n",
    "    (\"3544\", \"OR25-3519\", \"\", \"\", \"\",\"\", \"\", \"\", \"\", \"\", \"\"),\n",
    "    (\"3537\", \"OR25-3519\", \"\", \"\", \"\",\"\", \"\", \"\", \"\", \"\", \"\"),\n",
    "    (\"3539\", \"OR25-3519\", \"\", \"\", \"\",\"\", \"\", \"\", \"\", \"\", \"\"),\n",
    "    (\"3541\", \"OR25-3519\", \"\", \"\", \"\",\"\", \"\", \"\", \"\", \"\", \"\"),\n",
    "    (\"3549\", \"OR25-3519\", \"\", \"\", \"\",\"\", \"\", \"\", \"\", \"\", \"\"),\n",
    "    (\"3556\", \"OR25-3519\", \"\", \"\", \"\",\"\", \"\", \"\", \"\", \"\", \"\"),\n",
    "    (\"3559\", \"OR25-3519\", \"\", \"\", \"\",\"\", \"\", \"\", \"\", \"\", \"\"),\n",
    "    (\"3025\", \"OR25-2922\", \"Rose Kathure\", 37, \"F\",\"Marsabit\", \"\", \"\", \"\", \"\", \"\"),\n",
    "    (\"3023\", \"OR25-3519\", \"\", \"\", \"\",\"\", \"\", \"\", \"\", \"\", \"\"),\n",
    "    (\"2995\", \"OR25-3519\", \"\", \"\", \"\",\"\", \"\", \"\", \"\", \"\", \"\"),\n",
    "    (\"3038\", \"OR25-2935\", \"Mary Wanjara\", 31, \"F\",\"Machakos\", \"Married\", \"0\", \"Negative\", \"A\", \"\"),\n",
    "    (\"3030\", \"OR25-2927\", \"Kame Godana\", 49, \"F\",\"Marsabit\", \"Married\", \"5+0\", \"Negative\", \"16\", \"\"),\n",
    "    (\"2953\", \"OR25-3519\", \"\", \"\", \"\",\"\", \"\", \"\", \"\", \"\", \"\"),\n",
    "    (\"3029\", \"OR25-2926\", \"Tume Boru\", 45, \"F\",\"Marsabit\", \"Married\", \"3+2\", \"Negative\", \"A\", \"\"),\n",
    "    (\"3028\", \"OR25-2925\", \"Amina Garaba\", 39, \"F\",\"Marsabit\", \"Married\", \"5+0\", \"Negative\", \"16\", \"\"),\n",
    "    (\"2972\", \"OR25-3519\", \"\", \"\", \"\",\"\", \"\", \"\", \"\", \"\", \"\"),\n",
    "    (\"2970\", \"OR25-3519\", \"\", \"\", \"\",\"\", \"\", \"\", \"\", \"\", \"\"),\n",
    "    (\"2969\", \"OR25-3519\", \"\", \"\", \"\",\"\", \"\", \"\", \"\", \"\", \"\"),\n",
    "    (\"2978\", \"OR25-3519\", \"\", \"\", \"\",\"\", \"\", \"\", \"\", \"\", \"\"),\n",
    "    (\"2956\", \"OR25-3519\", \"\", \"\", \"\",\"\", \"\", \"\", \"\", \"\", \"\"),\n",
    "    (\"2981\", \"OR25-3519\", \"\", \"\", \"\",\"\", \"\", \"\", \"\", \"\", \"\"),\n",
    "    (\"2974\", \"OR25-3519\", \"\", \"\", \"\",\"\", \"\", \"\", \"\", \"\", \"\"),\n",
    "    (\"2985\", \"OR25-3519\", \"\", \"\", \"\",\"\", \"\", \"\", \"\", \"\", \"\"),\n",
    "    (\"2983\", \"OR25-3519\", \"\", \"\", \"\",\"\", \"\", \"\", \"\", \"\", \"\"),\n",
    "    (\"2977\", \"OR25-3519\", \"\", \"\", \"\",\"\", \"\", \"\", \"\", \"\", \"\"),\n",
    "    (\"3383\", \"OR25-3519\", \"\", \"\", \"\",\"\", \"\", \"\", \"\", \"\", \"\"),\n",
    "    (\"3387\", \"OR25-3519\", \"\", \"\", \"\",\"\", \"\", \"\", \"\", \"\", \"\"),\n",
    "    (\"3625\", \"OR25-3519\", \"\", \"\", \"\",\"\", \"\", \"\", \"\", \"\", \"\"),\n",
    "    (\"3260\", \"OR25-3519\", \"\", \"\", \"\",\"\", \"\", \"\", \"\", \"\", \"\"),\n",
    "    (\"3280\", \"OR25-3519\", \"\", \"\", \"\",\"\", \"\", \"\", \"\", \"\", \"\"),\n",
    "    (\"3511\", \"OR25-3519\", \"\", \"\", \"\",\"\", \"\", \"\", \"\", \"\", \"\"),\n",
    "    (\"3503\", \"OR25-3519\", \"\", \"\", \"\",\"\", \"\", \"\", \"\", \"\", \"\"),\n",
    "    (\"3402\", \"OR25-3519\", \"\", \"\", \"\",\"\", \"\", \"\", \"\", \"\", \"\"),\n",
    "    (\"3066\", \"OR25-3519\", \"\", \"\", \"\",\"\", \"\", \"\", \"\", \"\", \"\"),\n",
    "    (\"3059\", \"OR25-2956\", \"Regina Mwongeli\", 43, \"F\",\"Machakos\", \"Married\", \"0\", \"Negative\", \"B\", \"\"),\n",
    "    (\"2928\", \"OR25-3519\", \"\", \"\", \"\",\"\", \"\", \"\", \"\", \"\", \"\"),\n",
    "    (\"2929\", \"OR25-3519\", \"\", \"\", \"\",\"\", \"\", \"\", \"\", \"\", \"\"),\n",
    "    (\"2949\", \"OR25-3519\", \"\", \"\", \"\",\"\", \"\", \"\", \"\", \"\", \"\"),\n",
    "    (\"2945\", \"OR25-3519\", \"\", \"\", \"\",\"\", \"\", \"\", \"\", \"\", \"\"),\n",
    "    (\"2930\", \"OR25-3519\", \"\", \"\", \"\",\"\", \"\", \"\", \"\", \"\", \"\"),\n",
    "    (\"3076\", \"OR25-3519\", \"\", \"\", \"\",\"\", \"\", \"\", \"\", \"\", \"\"),\n",
    "    (\"3619\", \"OR25-3519\", \"\", \"\", \"\",\"\", \"\", \"\", \"\", \"\", \"\"),\n",
    "    (\"3415\", \"OR25-3519\", \"\", \"\", \"\",\"\", \"\", \"\", \"\", \"\", \"\"),\n",
    "    (\"3425\", \"OR25-3519\", \"\", \"\", \"\",\"\", \"\", \"\", \"\", \"\", \"\"),\n",
    "    (\"3374\", \"OR25-3519\", \"\", \"\", \"\",\"\", \"\", \"\", \"\", \"\", \"\"),\n",
    "    (\"3601\", \"OR25-3519\", \"\", \"\", \"\",\"\", \"\", \"\", \"\", \"\", \"\"),\n",
    "    (\"3602\", \"OR25-3519\", \"\", \"\", \"\",\"\", \"\", \"\", \"\", \"\", \"\"),\n",
    "    (\"3604\", \"OR25-3519\", \"\", \"\", \"\",\"\", \"\", \"\", \"\", \"\", \"\"),\n",
    "    (\"3606\", \"OR25-3519\", \"\", \"\", \"\",\"\", \"\", \"\", \"\", \"\", \"\"),\n",
    "    (\"3607\", \"OR25-3519\", \"\", \"\", \"\",\"\", \"\", \"\", \"\", \"\", \"\"),\n",
    "    (\"3341\", \"OR25-3519\", \"\", \"\", \"\",\"\", \"\", \"\", \"\", \"\", \"\"),\n",
    "    (\"3340\", \"OR25-3519\", \"\", \"\", \"\",\"\", \"\", \"\", \"\", \"\", \"\"),\n",
    "    (\"3198\", \"OR25-3519\", \"\", \"\", \"\",\"\", \"\", \"\", \"\", \"\", \"\"),\n",
    "    (\"3180\", \"OR25-3519\", \"\", \"\", \"\",\"\", \"\", \"\", \"\", \"\", \"\"),\n",
    "    (\"3184\", \"OR25-3519\", \"\", \"\", \"\",\"\", \"\", \"\", \"\", \"\", \"\"),\n",
    "    (\"3187\", \"OR25-3519\", \"\", \"\", \"\",\"\", \"\", \"\", \"\", \"\", \"\"),\n",
    "    (\"3170\", \"OR25-3519\", \"\", \"\", \"\",\"\", \"\", \"\", \"\", \"\", \"\"),\n",
    "    (\"3350\", \"OR25-3519\", \"\", \"\", \"\",\"\", \"\", \"\", \"\", \"\", \"\"),\n",
    "    \n",
    "    ]\n",
    "\n",
    "cursor.executemany('''\n",
    "    INSERT OR IGNORE INTO lab_records (\n",
    "        LIMSID, LABID, NAME, AGE, SEX, COUNTY,\n",
    "        MARITAL_STATUS, PARITY, HIV_STATUS,\n",
    "        HPV_STATUS, OTHER\n",
    "    ) VALUES (?, ?, ?, ?, ?, ?, ?, ?, ?, ?, ?)\n",
    "''', data)\n",
    "\n",
    "conn.commit()\n",
    "print(f\"{cursor.rowcount} records inserted via executemany.\")"
   ]
  },
  {
   "cell_type": "code",
   "execution_count": 11,
   "id": "911d8bac",
   "metadata": {},
   "outputs": [
    {
     "name": "stdout",
     "output_type": "stream",
     "text": [
      "('3146', 'OR25-3048', 'Everline Aluoch Chongo', 35, 'F', 'Nairobi', 'Widow', '5+0', 'Positive', '18', 'No notes')\n",
      "('3149', 'OR25-3051', 'Lilian Akinyi Owino', 37, 'F', 'Nairobi', 'Maried', '2+0', 'positive', 'A', 'No notes')\n",
      "('3148', 'OR25-3050', 'Eddah Muthoni', 35, 'F', 'Nairobi', 'Maried', '2+0', 'positive', 'B', 'No notes')\n",
      "('3152', 'OR25-3049', 'Sophie Atieno', 37, 'F', 'Nairobi', 'Married', '2+0', 'positive', 'A', 'No notes')\n",
      "('3168', 'OR25-3054', 'Catherine Mwikali', 38, 'F', 'Machakos', 'Married', '3+0', 'Negative', '', 'No notes')\n",
      "('3239', 'OR25-3135', 'Rose K Omwando', 36, 'F', 'Kisii', 'Married', '2+0', 'Negative', '18', 'No notes')\n",
      "('3167', 'OR25-3519', 'Caroline Kaleli', 41, 'F', 'Machakos', 'Married', '3+0', 'Negative', '', 'No notes')\n",
      "('3060', 'OR25-3519', 'Mary Mbatha Mutua', 46, 'F', 'Machakos', 'Married', '2+0', 'Negative', '45', 'No notes')\n",
      "('3190', 'OR25-3519', 'Ruth Nthenya', 37, 'F', 'Machakos', 'single', '3+0', '', '', 'No notes')\n",
      "('3191', 'OR25-3519', 'Elizabeth Mwikali', 36, 'F', 'Machakos', 'Single', '2+0', 'Negative', '', 'No notes')\n",
      "('3164', 'OR25-3519', 'Caroline Mwikali', 32, 'F', 'Machakos', 'Married', '3+0', 'Negative', '45', 'No notes')\n",
      "('3566', 'OR25-3519', 'Grace Wanjiku', 38, 'F', 'Nairobi', 'Married', '2+0', 'Negative', 'A', 'Consent')\n",
      "('3567', 'OR25-3519', 'Margaret Anyango', 61, 'F', 'Nairobi', 'Married', '2+0', 'Positive', 'B', 'Consent')\n",
      "('3569', 'OR25-3519', 'Selina Moraa', 51, 'F', 'Nairobi', 'Married', '2+0', 'Positive', 'B', 'Consent')\n",
      "('3586', 'OR25-3488', 'Sara Wangare', 53, 'F', 'Nairobi', 'Married', '2+0', 'Positive', 'A', 'ccc')\n",
      "('3464', 'OR25-3519', 'Miceline Furaha Kitamuliko', 38, 'F', 'Nairobi', 'Married', '1+0', 'Positive', '', 'ccc')\n",
      "('3467', 'OR25-3519', 'Josephine Wambui', 53, 'F', 'Nairobi', 'Married', '', 'Positive', 'A', 'ccc')\n",
      "('3571', 'OR25-3473', 'Mercy Kiarie', 57, 'F', 'Nairobi', 'Married', '', 'Positive', 'A', 'ccc')\n",
      "('3587', 'OR25-3489', 'Miriam Kanini', 44, 'F', 'Nairobi', 'Married', '', 'Positive', '16', 'ccc')\n",
      "('3589', 'OR25-3491', 'Eather Oyani', 58, 'F', 'Nairobi', 'Married', '', 'Positive', '18,A', 'ccc')\n",
      "('3595', 'OR25-3517', 'Jeniffer Musheshi', 60, 'F', 'Nairobi', 'Married', '1+0', 'Positive', 'B', 'No notes')\n",
      "('3530', 'OR25-3519', 'Emily Mbaika', 40, 'F', 'Nairobi', 'Married', '', 'Positive', '45', 'No notes')\n",
      "('3135', 'OR25-3519', 'Rosinah Nthenya', 47, 'F', 'Machakos', 'Married', '', 'Negative', '', 'Consent')\n",
      "('3058', 'OR25-2955', 'Florence Kitua', 47, 'F', 'Machakos', 'Single', '', 'Negative', 'B', 'Consent')\n",
      "('3061', 'OR25-2958', 'Anastatcia Muthui', 46, 'F', 'Machakos', 'Married', '0', 'Negative', 'B', 'Consent')\n",
      "('3143', 'OR25-3020', 'Annah Ndinda', 43, 'F', 'Machakos', 'Married', '', 'Negative', '18', 'Consent')\n",
      "('3081', 'OR25-3519', 'Elizabeth Njoki Njiru', 36, 'F', 'Machakos', 'Married', '', 'Negative', 'A', '')\n",
      "('3101', 'OR25-3519', 'Morrin Wanza', 41, 'F', 'Machakos', 'Married', '', 'Negative', 'A', '')\n",
      "('3096', 'OR25-3519', 'Eather Mutiso', 47, 'F', 'Machakos', 'Married', '', 'Negative', 'A,B', '')\n",
      "('3094', 'OR25-3519', 'Catherine Ndanu', 31, 'F', 'Machakos', 'Married', '', 'Negative', 'A,B', '')\n",
      "('3093', 'OR25-3519', 'Rose Mueni', 47, 'F', 'Machakos', 'Married', '', 'Negative', 'A', '')\n",
      "('3477', 'OR25-3519', 'Catherine Wanja', 40, 'F', 'Meru', 'Married', '2+0', 'Unknown', '', 'Consent')\n",
      "('3485', 'OR25-3519', 'Fridah Gatwiri Mwiti', 38, 'F', 'Meru', 'Single', '3+0', 'Unknown', '', 'Consent')\n",
      "('3489', 'OR25-3519', 'Christine Kawira Stanley', 30, 'F', 'Meru', 'Single', '4+0', 'Unknown', '', 'Consent')\n",
      "('3456', 'OR25-3519', 'Siti Bakari Siwa', 32, 'F', 'Mombasa', 'Married', '', 'Negative', '', 'Consent')\n",
      "('3518', 'OR25-3519', 'Peninah Kinya Jane', 35, 'F', 'Meru', 'Married', '2+0', 'Unknown', '', '')\n",
      "('3515', 'OR25-3519', 'Everline Makewa Baraka', 30, 'F', 'Meru', 'Married', '2+0', 'Unknown', '', '')\n",
      "('3577', 'OR25-3519', 'Mary Kasyoka', 55, 'F', 'Nairobi', 'Married', '', 'Positive', '', 'Consent')\n",
      "('3578', 'OR25-3519', 'Josephine Mueni', 48, 'F', 'Nairobi', 'Married', '', 'Positive', '', 'Consent')\n",
      "('3582', 'OR25-3519', 'Jackline Luvungha', 46, 'F', 'Nairobi', 'Married', '', 'Positive', '', 'Consent')\n",
      "('3612', 'OR25-3519', 'Linet Akinyi', 32, 'F', 'Nairobi', '', '', 'Positive', '', '')\n",
      "('3610', 'OR25-3519', 'Leah Wanjala', 37, 'F', 'Nairobi', 'Widow', '1+0', 'Positive', '', 'Consent')\n",
      "('3226', 'OR25-3519', 'Eunice Malinda', 49, 'F', 'Machakos', 'Widow', '2+0', 'Negative', '', 'Consent')\n",
      "('3291', 'OR25-3519', 'Benard Galhai', 32, 'F', 'Marsabit', '', '0', 'Unkown', '', 'Consent')\n",
      "('3297', 'OR25-3519', 'Ndupayo Lukhumulhau', 41, 'F', 'Marsabit', '', '0', 'Unkown', '', 'Consent')\n",
      "('3279', 'OR25-3519', 'Nasaru Alyaro', 35, 'F', 'Marsabit', 'Married', '0', 'Unkown', '', 'Consent')\n",
      "('3278', 'OR25-3519', 'Susan Lenganap', 46, 'F', 'Marsabit', 'Married', '0', 'Unkown', '', 'Consent')\n",
      "('3243', 'OR25-3519', 'Josphine Nyabonyi Omweri', 44, 'F', 'Kisii', 'Married', '0', 'Negative', '', 'Consent')\n",
      "('3242', 'OR25-3519', 'Emily Nyagwansa', 49, 'F', 'Kisii', 'Married', '0', 'Negative', '', 'Consent')\n",
      "('3258', 'OR25-3519', 'Isabellah Onyancha', 49, 'F', 'Kisii', 'Married', '0', 'Negative', '', 'Consent')\n",
      "('3252', 'OR25-3519', 'Beatrice Gesare Mogusu', 49, 'F', 'Kisii', 'Married', '0', 'Negative', '', 'Consent')\n",
      "('3248', 'OR25-3519', 'Ann Moraa Misati', 49, 'F', 'Kisii', 'Single', '0', 'Unknown', '', 'Consent')\n",
      "('3211', 'OR25-3519', 'Salome Mueni', 42, 'F', 'Machakos', 'Single', '3+0', 'Unknown', '', 'Consent')\n",
      "('3217', 'OR25-3519', 'Damaris Nduku', 30, 'F', 'Machakos', 'Married', '1+0', 'Negative', '', 'Consent')\n",
      "('3220', 'OR25-3519', 'Esther Wanjiku', 32, 'F', 'Machakos', 'Single', '0+0', 'Negative', '', 'Consent')\n",
      "('3235', 'OR25-3519', 'Varelia Nyaboke Otwoma', 30, 'F', 'Kisii', 'Married', '0', 'Negative', '', 'Consent')\n",
      "('3154', 'OR25-3519', 'Monicah Ndindi', 42, 'F', 'Machakos', 'Married', '0', 'Positive', '', 'Consent')\n",
      "('3155', 'OR25-3519', 'Rosaline Wambui', 54, 'F', 'Nairobi', 'Married', '0', 'Positive', '', 'Consent')\n",
      "('3147', 'OR25-3519', 'Lilian Akinyi Owino', 37, 'F', 'Nairobi', '', '0', 'Positive', '', 'Consent')\n",
      "('3308', 'OR25-3519', 'Ruth Wanjira Karanja', 43, 'F', 'Kiambu', '', '0', 'positive', '', 'Consent')\n",
      "('3309', 'OR25-3519', 'Esther Wangeci Wainaina', 54, 'F', 'Kiambu', '', '0', 'positive', '', 'Consent')\n",
      "('3312', 'OR25-3519', 'Jane Wacuka Kiwii', 53, 'F', 'Kiambu', '', '0', 'positive', '', 'Consent')\n",
      "('3318', 'OR25-3519', 'Mary Wangui Njuguna', 39, 'F', 'Kiambu', '', '0', 'positive', '', 'Consent')\n",
      "('3320', 'OR25-3519', 'Hannah Mumbi Gahukia', 54, 'F', 'Kiambu', '', '0', 'positive', '', 'Consent')\n",
      "('3324', 'OR25-3519', 'Teresia Njoki Ichangi', 35, 'F', 'Kiambu', '', '0', 'positive', '', 'Consent')\n",
      "('3326', 'OR25-3519', 'Stella Njeri Wainaina', 45, 'F', 'Kiambu', '', '0', 'positive', '', 'Consent')\n",
      "('3332', 'OR25-3519', 'Eunice Kamuli Nkendo', 50, 'F', 'Kiambu', '', '0', 'positive', '', 'Consent')\n",
      "('3337', 'OR25-3519', 'Philis Mwikali Mbatha', 47, 'F', '', '', '0', 'positive', '', 'Consent')\n",
      "('3329', 'OR25-3519', 'Grace Kariuki', 39, 'F', '', '', '0', 'positive', '', 'Consent')\n",
      "('3371', 'OR25-3519', 'Mercy Kiarie', 57, 'F', 'Nairobi', '', '0', 'positive', '', 'Consent')\n",
      "('2968', 'OR25-3519', '', '', '', '', '', '', '', '', '')\n",
      "('2976', 'OR25-3519', '', '', '', '', '', '', '', '', '')\n",
      "('2982', 'OR25-3519', '', '', '', '', '', '', '', '', '')\n",
      "('2957', 'OR25-3519', '', '', '', '', '', '', '', '', '')\n",
      "('3526', 'OR25-3519', '', '', '', '', '', '', '', '', '')\n",
      "('3527', 'OR25-3519', '', '', '', '', '', '', '', '', '')\n",
      "('3532', 'OR25-3519', '', '', '', '', '', '', '', '', '')\n",
      "('3529', 'OR25-3519', '', '', '', '', '', '', '', '', '')\n",
      "('3544', 'OR25-3519', '', '', '', '', '', '', '', '', '')\n",
      "('3537', 'OR25-3519', '', '', '', '', '', '', '', '', '')\n",
      "('3539', 'OR25-3519', '', '', '', '', '', '', '', '', '')\n",
      "('3541', 'OR25-3519', '', '', '', '', '', '', '', '', '')\n",
      "('3549', 'OR25-3519', '', '', '', '', '', '', '', '', '')\n",
      "('3556', 'OR25-3519', '', '', '', '', '', '', '', '', '')\n",
      "('3559', 'OR25-3519', '', '', '', '', '', '', '', '', '')\n",
      "('3025', 'OR25-2922', 'Rose Kathure', 37, 'F', 'Marsabit', '', '', '', '', '')\n",
      "('3023', 'OR25-3519', '', '', '', '', '', '', '', '', '')\n",
      "('2995', 'OR25-3519', '', '', '', '', '', '', '', '', '')\n",
      "('3038', 'OR25-2935', 'Mary Wanjara', 31, 'F', 'Machakos', 'Married', '0', 'Negative', 'A', '')\n",
      "('3030', 'OR25-2927', 'Kame Godana', 49, 'F', 'Marsabit', 'Married', '5+0', 'Negative', '16', '')\n",
      "('2953', 'OR25-3519', '', '', '', '', '', '', '', '', '')\n",
      "('3029', 'OR25-2926', 'Tume Boru', 45, 'F', 'Marsabit', 'Married', '3+2', 'Negative', 'A', '')\n",
      "('3028', 'OR25-2925', 'Amina Garaba', 39, 'F', 'Marsabit', 'Married', '5+0', 'Negative', '16', '')\n",
      "('2972', 'OR25-3519', '', '', '', '', '', '', '', '', '')\n",
      "('2970', 'OR25-3519', '', '', '', '', '', '', '', '', '')\n",
      "('2969', 'OR25-3519', '', '', '', '', '', '', '', '', '')\n",
      "('2978', 'OR25-3519', '', '', '', '', '', '', '', '', '')\n",
      "('2956', 'OR25-3519', '', '', '', '', '', '', '', '', '')\n",
      "('2981', 'OR25-3519', '', '', '', '', '', '', '', '', '')\n",
      "('2974', 'OR25-3519', '', '', '', '', '', '', '', '', '')\n",
      "('2985', 'OR25-3519', '', '', '', '', '', '', '', '', '')\n",
      "('2983', 'OR25-3519', '', '', '', '', '', '', '', '', '')\n",
      "('2977', 'OR25-3519', '', '', '', '', '', '', '', '', '')\n",
      "('3383', 'OR25-3519', '', '', '', '', '', '', '', '', '')\n",
      "('3387', 'OR25-3519', '', '', '', '', '', '', '', '', '')\n",
      "('3625', 'OR25-3519', '', '', '', '', '', '', '', '', '')\n",
      "('3260', 'OR25-3519', '', '', '', '', '', '', '', '', '')\n",
      "('3280', 'OR25-3519', '', '', '', '', '', '', '', '', '')\n",
      "('3511', 'OR25-3519', '', '', '', '', '', '', '', '', '')\n",
      "('3503', 'OR25-3519', '', '', '', '', '', '', '', '', '')\n",
      "('3402', 'OR25-3519', '', '', '', '', '', '', '', '', '')\n",
      "('3066', 'OR25-3519', '', '', '', '', '', '', '', '', '')\n",
      "('3059', 'OR25-2956', 'Regina Mwongeli', 43, 'F', 'Machakos', 'Married', '0', 'Negative', 'B', '')\n",
      "('2928', 'OR25-3519', '', '', '', '', '', '', '', '', '')\n",
      "('2929', 'OR25-3519', '', '', '', '', '', '', '', '', '')\n",
      "('2949', 'OR25-3519', '', '', '', '', '', '', '', '', '')\n",
      "('2945', 'OR25-3519', '', '', '', '', '', '', '', '', '')\n",
      "('2930', 'OR25-3519', '', '', '', '', '', '', '', '', '')\n",
      "('3076', 'OR25-3519', '', '', '', '', '', '', '', '', '')\n",
      "('3619', 'OR25-3519', '', '', '', '', '', '', '', '', '')\n",
      "('3415', 'OR25-3519', '', '', '', '', '', '', '', '', '')\n",
      "('3425', 'OR25-3519', '', '', '', '', '', '', '', '', '')\n",
      "('3374', 'OR25-3519', '', '', '', '', '', '', '', '', '')\n",
      "('3601', 'OR25-3519', '', '', '', '', '', '', '', '', '')\n",
      "('3602', 'OR25-3519', '', '', '', '', '', '', '', '', '')\n",
      "('3604', 'OR25-3519', '', '', '', '', '', '', '', '', '')\n",
      "('3606', 'OR25-3519', '', '', '', '', '', '', '', '', '')\n",
      "('3607', 'OR25-3519', '', '', '', '', '', '', '', '', '')\n",
      "('3341', 'OR25-3519', '', '', '', '', '', '', '', '', '')\n",
      "('3340', 'OR25-3519', '', '', '', '', '', '', '', '', '')\n",
      "('3198', 'OR25-3519', '', '', '', '', '', '', '', '', '')\n",
      "('3180', 'OR25-3519', '', '', '', '', '', '', '', '', '')\n",
      "('3184', 'OR25-3519', '', '', '', '', '', '', '', '', '')\n",
      "('3187', 'OR25-3519', '', '', '', '', '', '', '', '', '')\n",
      "('3170', 'OR25-3519', '', '', '', '', '', '', '', '', '')\n",
      "('3350', 'OR25-3519', '', '', '', '', '', '', '', '', '')\n"
     ]
    }
   ],
   "source": [
    "# Fetch the results\n",
    "rows = cursor.fetchall()\n",
    "\n",
    "# Print the data\n",
    "for row in rows:\n",
    "    print(row)\n",
    "# Query all rows in the table\n",
    "cursor.execute(\"SELECT * FROM lab_records\")\n",
    "\n",
    "# Fetch the results\n",
    "rows = cursor.fetchall()\n",
    "\n",
    "# Print the data\n",
    "for row in rows:\n",
    "    print(row)\n"
   ]
  },
  {
   "cell_type": "code",
   "execution_count": 12,
   "id": "c8577a07",
   "metadata": {},
   "outputs": [
    {
     "name": "stdout",
     "output_type": "stream",
     "text": [
      "    LIMSID      LABID                    NAME AGE SEX    COUNTY  \\\n",
      "0     3146  OR25-3048  Everline Aluoch Chongo  35   F   Nairobi   \n",
      "1     3149  OR25-3051     Lilian Akinyi Owino  37   F   Nairobi   \n",
      "2     3148  OR25-3050           Eddah Muthoni  35   F   Nairobi   \n",
      "3     3152  OR25-3049           Sophie Atieno  37   F   Nairobi   \n",
      "4     3168  OR25-3054       Catherine Mwikali  38   F  Machakos   \n",
      "..     ...        ...                     ...  ..  ..       ...   \n",
      "131   3180  OR25-3519                                             \n",
      "132   3184  OR25-3519                                             \n",
      "133   3187  OR25-3519                                             \n",
      "134   3170  OR25-3519                                             \n",
      "135   3350  OR25-3519                                             \n",
      "\n",
      "    MARITAL_STATUS PARITY HIV_STATUS HPV_STATUS     OTHER  \n",
      "0            Widow    5+0   Positive         18  No notes  \n",
      "1           Maried    2+0   positive          A  No notes  \n",
      "2           Maried    2+0   positive          B  No notes  \n",
      "3          Married    2+0   positive          A  No notes  \n",
      "4          Married    3+0   Negative             No notes  \n",
      "..             ...    ...        ...        ...       ...  \n",
      "131                                                        \n",
      "132                                                        \n",
      "133                                                        \n",
      "134                                                        \n",
      "135                                                        \n",
      "\n",
      "[136 rows x 11 columns]\n"
     ]
    }
   ],
   "source": [
    "df = pd.read_sql_query(\"SELECT * FROM lab_records\", conn)\n",
    "\n",
    "# Display the DataFrame\n",
    "print(df)"
   ]
  },
  {
   "cell_type": "code",
   "execution_count": 13,
   "id": "f87c7759",
   "metadata": {},
   "outputs": [
    {
     "name": "stdout",
     "output_type": "stream",
     "text": [
      "Data saved to lab_records.csv\n"
     ]
    }
   ],
   "source": [
    "df.to_csv(\"lab_records.csv\", index=False)\n",
    "print(\"Data saved to lab_records.csv\")"
   ]
  },
  {
   "cell_type": "code",
   "execution_count": 14,
   "id": "ec939975",
   "metadata": {},
   "outputs": [
    {
     "data": {
      "text/plain": [
       "LIMSID            object\n",
       "LABID             object\n",
       "NAME              object\n",
       "AGE               object\n",
       "SEX               object\n",
       "COUNTY            object\n",
       "MARITAL_STATUS    object\n",
       "PARITY            object\n",
       "HIV_STATUS        object\n",
       "HPV_STATUS        object\n",
       "OTHER             object\n",
       "dtype: object"
      ]
     },
     "execution_count": 14,
     "metadata": {},
     "output_type": "execute_result"
    }
   ],
   "source": [
    "df.dtypes"
   ]
  },
  {
   "cell_type": "code",
   "execution_count": 15,
   "id": "fecaa7d5",
   "metadata": {},
   "outputs": [
    {
     "data": {
      "text/plain": [
       "<bound method NDFrame.describe of     LIMSID      LABID                    NAME AGE SEX    COUNTY  \\\n",
       "0     3146  OR25-3048  Everline Aluoch Chongo  35   F   Nairobi   \n",
       "1     3149  OR25-3051     Lilian Akinyi Owino  37   F   Nairobi   \n",
       "2     3148  OR25-3050           Eddah Muthoni  35   F   Nairobi   \n",
       "3     3152  OR25-3049           Sophie Atieno  37   F   Nairobi   \n",
       "4     3168  OR25-3054       Catherine Mwikali  38   F  Machakos   \n",
       "..     ...        ...                     ...  ..  ..       ...   \n",
       "131   3180  OR25-3519                                             \n",
       "132   3184  OR25-3519                                             \n",
       "133   3187  OR25-3519                                             \n",
       "134   3170  OR25-3519                                             \n",
       "135   3350  OR25-3519                                             \n",
       "\n",
       "    MARITAL_STATUS PARITY HIV_STATUS HPV_STATUS     OTHER  \n",
       "0            Widow    5+0   Positive         18  No notes  \n",
       "1           Maried    2+0   positive          A  No notes  \n",
       "2           Maried    2+0   positive          B  No notes  \n",
       "3          Married    2+0   positive          A  No notes  \n",
       "4          Married    3+0   Negative             No notes  \n",
       "..             ...    ...        ...        ...       ...  \n",
       "131                                                        \n",
       "132                                                        \n",
       "133                                                        \n",
       "134                                                        \n",
       "135                                                        \n",
       "\n",
       "[136 rows x 11 columns]>"
      ]
     },
     "execution_count": 15,
     "metadata": {},
     "output_type": "execute_result"
    }
   ],
   "source": [
    "df.describe"
   ]
  },
  {
   "cell_type": "code",
   "execution_count": 16,
   "id": "40cc46c6",
   "metadata": {},
   "outputs": [
    {
     "data": {
      "text/plain": [
       "<bound method DataFrame.duplicated of     LIMSID      LABID                    NAME AGE SEX    COUNTY  \\\n",
       "0     3146  OR25-3048  Everline Aluoch Chongo  35   F   Nairobi   \n",
       "1     3149  OR25-3051     Lilian Akinyi Owino  37   F   Nairobi   \n",
       "2     3148  OR25-3050           Eddah Muthoni  35   F   Nairobi   \n",
       "3     3152  OR25-3049           Sophie Atieno  37   F   Nairobi   \n",
       "4     3168  OR25-3054       Catherine Mwikali  38   F  Machakos   \n",
       "..     ...        ...                     ...  ..  ..       ...   \n",
       "131   3180  OR25-3519                                             \n",
       "132   3184  OR25-3519                                             \n",
       "133   3187  OR25-3519                                             \n",
       "134   3170  OR25-3519                                             \n",
       "135   3350  OR25-3519                                             \n",
       "\n",
       "    MARITAL_STATUS PARITY HIV_STATUS HPV_STATUS     OTHER  \n",
       "0            Widow    5+0   Positive         18  No notes  \n",
       "1           Maried    2+0   positive          A  No notes  \n",
       "2           Maried    2+0   positive          B  No notes  \n",
       "3          Married    2+0   positive          A  No notes  \n",
       "4          Married    3+0   Negative             No notes  \n",
       "..             ...    ...        ...        ...       ...  \n",
       "131                                                        \n",
       "132                                                        \n",
       "133                                                        \n",
       "134                                                        \n",
       "135                                                        \n",
       "\n",
       "[136 rows x 11 columns]>"
      ]
     },
     "execution_count": 16,
     "metadata": {},
     "output_type": "execute_result"
    }
   ],
   "source": [
    "df.duplicated"
   ]
  },
  {
   "cell_type": "code",
   "execution_count": 17,
   "id": "51d65431",
   "metadata": {},
   "outputs": [
    {
     "data": {
      "text/plain": [
       "LIMSID            0\n",
       "LABID             0\n",
       "NAME              0\n",
       "AGE               0\n",
       "SEX               0\n",
       "COUNTY            0\n",
       "MARITAL_STATUS    0\n",
       "PARITY            0\n",
       "HIV_STATUS        0\n",
       "HPV_STATUS        0\n",
       "OTHER             0\n",
       "dtype: int64"
      ]
     },
     "execution_count": 17,
     "metadata": {},
     "output_type": "execute_result"
    }
   ],
   "source": [
    "df.isnull().sum()"
   ]
  },
  {
   "cell_type": "code",
   "execution_count": 18,
   "id": "789f1f75",
   "metadata": {},
   "outputs": [
    {
     "data": {
      "text/plain": [
       "np.int64(0)"
      ]
     },
     "execution_count": 18,
     "metadata": {},
     "output_type": "execute_result"
    }
   ],
   "source": [
    "df.duplicated().sum()"
   ]
  },
  {
   "cell_type": "code",
   "execution_count": 27,
   "id": "c92a7298",
   "metadata": {},
   "outputs": [],
   "source": [
    "#data cleaning and analysis\n",
    "import matplotlib.pyplot as plt\n",
    "import seaborn as sns \n",
    "import numpy as np\n",
    "from scipy.stats import chi2_contingency, ttest_ind"
   ]
  },
  {
   "cell_type": "code",
   "execution_count": 20,
   "id": "012ac122",
   "metadata": {},
   "outputs": [],
   "source": [
    "for col in ['SEX','COUNTY','MARITAL_STATUS','HIV_STATUS','HPV_STATUS','OTHER']:\n",
    "    df[col] = df[col].astype(str).str.strip().str.lower().replace({'nan': np.nan})\n"
   ]
  },
  {
   "cell_type": "code",
   "execution_count": 21,
   "id": "1e78444e",
   "metadata": {},
   "outputs": [],
   "source": [
    "# Fix common typos in MARITAL_STATUS\n",
    "df['MARITAL_STATUS'] = df['MARITAL_STATUS'].replace({\n",
    "    'maried':'married', 'widow':'widowed'\n",
    "})"
   ]
  },
  {
   "cell_type": "code",
   "execution_count": 22,
   "id": "3b062339",
   "metadata": {},
   "outputs": [],
   "source": [
    " #Make HIV_STATUS consistent (positive/negative only)\n",
    "df['HIV_STATUS'] = df['HIV_STATUS'].replace({\n",
    "    'pos':'positive', 'positive ':'positive'\n",
    "}).str.replace(r'[^a-z]','', regex=True)\n"
   ]
  },
  {
   "cell_type": "code",
   "execution_count": 23,
   "id": "43ed5b1d",
   "metadata": {},
   "outputs": [],
   "source": [
    "# Convert AGE to numeric (some may still be NaN)\n",
    "df['AGE'] = pd.to_numeric(df['AGE'], errors='coerce')"
   ]
  },
  {
   "cell_type": "code",
   "execution_count": 24,
   "id": "935b16b3",
   "metadata": {},
   "outputs": [
    {
     "name": "stdout",
     "output_type": "stream",
     "text": [
      "\n",
      "Missing values per column:\n",
      " LIMSID             0\n",
      "LABID              0\n",
      "NAME               0\n",
      "AGE               60\n",
      "SEX                0\n",
      "COUNTY             0\n",
      "MARITAL_STATUS     0\n",
      "PARITY             0\n",
      "HIV_STATUS         0\n",
      "HPV_STATUS         0\n",
      "OTHER              0\n",
      "dtype: int64\n",
      "\n",
      "Basic stats:\n",
      "        LIMSID      LABID NAME        AGE  SEX COUNTY MARITAL_STATUS PARITY  \\\n",
      "count     136        136  136  76.000000  136    136            136    136   \n",
      "unique    136         21   75        NaN    2      8              4      9   \n",
      "top      3146  OR25-3519             NaN    f                                \n",
      "freq        1        116   60        NaN   76     62             76     79   \n",
      "mean      NaN        NaN  NaN  42.644737  NaN    NaN            NaN    NaN   \n",
      "std       NaN        NaN  NaN   8.115342  NaN    NaN            NaN    NaN   \n",
      "min       NaN        NaN  NaN  30.000000  NaN    NaN            NaN    NaN   \n",
      "25%       NaN        NaN  NaN  36.750000  NaN    NaN            NaN    NaN   \n",
      "50%       NaN        NaN  NaN  42.000000  NaN    NaN            NaN    NaN   \n",
      "75%       NaN        NaN  NaN  49.000000  NaN    NaN            NaN    NaN   \n",
      "max       NaN        NaN  NaN  61.000000  NaN    NaN            NaN    NaN   \n",
      "\n",
      "       HIV_STATUS HPV_STATUS OTHER  \n",
      "count         136        136   136  \n",
      "unique          5          8     4  \n",
      "top                                 \n",
      "freq           62        106    74  \n",
      "mean          NaN        NaN   NaN  \n",
      "std           NaN        NaN   NaN  \n",
      "min           NaN        NaN   NaN  \n",
      "25%           NaN        NaN   NaN  \n",
      "50%           NaN        NaN   NaN  \n",
      "75%           NaN        NaN   NaN  \n",
      "max           NaN        NaN   NaN  \n",
      "\n",
      "Age summary:\n",
      " count    76.000000\n",
      "mean     42.644737\n",
      "std       8.115342\n",
      "min      30.000000\n",
      "25%      36.750000\n",
      "50%      42.000000\n",
      "75%      49.000000\n",
      "max      61.000000\n",
      "Name: AGE, dtype: float64\n",
      "\n",
      "HIV status counts:\n",
      " HIV_STATUS\n",
      "            62\n",
      "positive    33\n",
      "negative    30\n",
      "unknown      7\n",
      "unkown       4\n",
      "Name: count, dtype: int64\n",
      "\n",
      "Marital vs HIV:\n",
      " HIV_STATUS          negative  positive  unknown  unkown\n",
      "MARITAL_STATUS                                         \n",
      "                61         0        13        0       2\n",
      "married          0        26        18        3       2\n",
      "single           1         3         0        4       0\n",
      "widowed          0         1         2        0       0\n"
     ]
    }
   ],
   "source": [
    "print(\"\\nMissing values per column:\\n\", df.isna().sum())\n",
    "print(\"\\nBasic stats:\\n\", df.describe(include='all'))\n",
    "\n",
    "# --- 4. Descriptive Summaries -----------------------------------\n",
    "# Age distribution\n",
    "print(\"\\nAge summary:\\n\", df['AGE'].describe())\n",
    "\n",
    "# HIV prevalence\n",
    "hiv_counts = df['HIV_STATUS'].value_counts(dropna=False)\n",
    "print(\"\\nHIV status counts:\\n\", hiv_counts)\n",
    "\n",
    "# Marital status vs HIV\n",
    "print(\"\\nMarital vs HIV:\\n\", pd.crosstab(df['MARITAL_STATUS'], df['HIV_STATUS']))\n",
    "\n",
    "# --- 5. Visualizations ------------------------------------------\n",
    "sns.set_theme(style=\"whitegrid\")\n"
   ]
  },
  {
   "cell_type": "code",
   "execution_count": 25,
   "id": "62a5e0d0",
   "metadata": {},
   "outputs": [
    {
     "data": {
      "image/png": "[encoded data removed]",
      "text/plain": [
       "<Figure size 600x400 with 1 Axes>"
      ]
     },
     "metadata": {},
     "output_type": "display_data"
    },
    {
     "data": {
      "text/plain": [
       "<Figure size 640x480 with 0 Axes>"
      ]
     },
     "metadata": {},
     "output_type": "display_data"
    }
   ],
   "source": [
    "# Age histogram\n",
    "plt.figure(figsize=(6,4))\n",
    "sns.histplot(df['AGE'].dropna(), bins=10, kde=True)\n",
    "plt.title(\"Age Distribution\")\n",
    "plt.xlabel(\"Age\")\n",
    "plt.show()\n",
    "plt.savefig(\"Age distribution\")"
   ]
  },
  {
   "cell_type": "code",
   "execution_count": 26,
   "id": "e3839e59",
   "metadata": {},
   "outputs": [
    {
     "data": {
      "image/png": "[encoded data removed]",
      "text/plain": [
       "<Figure size 800x400 with 1 Axes>"
      ]
     },
     "metadata": {},
     "output_type": "display_data"
    },
    {
     "data": {
      "text/plain": [
       "<Figure size 640x480 with 0 Axes>"
      ]
     },
     "metadata": {},
     "output_type": "display_data"
    }
   ],
   "source": [
    "# HIV by County\n",
    "plt.figure(figsize=(8,4))\n",
    "sns.countplot(data=df, x='COUNTY', hue='HIV_STATUS')\n",
    "plt.title(\"HIV Status by County\")\n",
    "plt.xticks(rotation=45)\n",
    "plt.show()\n",
    "plt.savefig(\"HIV Status by County\")"
   ]
  },
  {
   "cell_type": "code",
   "execution_count": 28,
   "id": "2e875820",
   "metadata": {},
   "outputs": [
    {
     "name": "stdout",
     "output_type": "stream",
     "text": [
      "Chi-square test HIV vs Marital: chi2=129.72, p=0.0000\n"
     ]
    }
   ],
   "source": [
    "#HIV vs Marital Status\n",
    "crosstab = pd.crosstab(df['MARITAL_STATUS'], df['HIV_STATUS'])\n",
    "chi2, p, dof, expected = chi2_contingency(crosstab)\n",
    "print(f\"Chi-square test HIV vs Marital: chi2={chi2:.2f}, p={p:.4f}\")"
   ]
  },
  {
   "cell_type": "code",
   "execution_count": 29,
   "id": "123cf2ca",
   "metadata": {},
   "outputs": [
    {
     "name": "stdout",
     "output_type": "stream",
     "text": [
      "T-test Age difference (HIV+ vs HIV-): t=2.82, p=0.0066\n"
     ]
    }
   ],
   "source": [
    "# t-test: Age difference between HIV+ and HIV-\n",
    "positive_age = df.loc[df['HIV_STATUS']=='positive','AGE'].dropna()\n",
    "negative_age = df.loc[df['HIV_STATUS']=='negative','AGE'].dropna()\n",
    "t_stat, p_val = ttest_ind(positive_age, negative_age, equal_var=False, nan_policy='omit')\n",
    "print(f\"T-test Age difference (HIV+ vs HIV-): t={t_stat:.2f}, p={p_val:.4f}\")\n"
   ]
  }
 ],
 "metadata": {
  "kernelspec": {
   "display_name": ".venv (3.12.3)",
   "language": "python",
   "name": "python3"
  },
  "language_info": {
   "codemirror_mode": {
    "name": "ipython",
    "version": 3
   },
   "file_extension": ".py",
   "mimetype": "text/x-python",
   "name": "python",
   "nbconvert_exporter": "python",
   "pygments_lexer": "ipython3",
   "version": "3.12.3"
  }
 },
 "nbformat": 4,
 "nbformat_minor": 5
}
